{
 "cells": [
  {
   "cell_type": "markdown",
   "metadata": {},
   "source": [
    "# Linear Regression Model for Cues Aggregation"
   ]
  },
  {
   "cell_type": "code",
   "execution_count": 1,
   "metadata": {},
   "outputs": [],
   "source": [
    "import os\n",
    "os.chdir(\"../\")\n",
    "from dice import Inputs\n",
    "from dice.constants import Dimensions\n",
    "from dice.misc import Table\n",
    "import pandas as pd\n",
    "import numpy as np\n",
    "from sklearn.linear_model import LinearRegression\n",
    "from sklearn.neural_network import MLPRegressor\n",
    "from sklearn.ensemble import RandomForestRegressor"
   ]
  },
  {
   "cell_type": "code",
   "execution_count": 2,
   "metadata": {},
   "outputs": [],
   "source": [
    "INPUTS_FOLDER = \"scratch/conceptnet\"\n",
    "INPUTS_SOURCE = \"ConceptNet\"\n",
    "ANNOTATION_PATH = \"data/annotation/ppref_gold_all_2019_08_12.csv\""
   ]
  },
  {
   "cell_type": "markdown",
   "metadata": {},
   "source": [
    "## 1. Data Pre-Processing"
   ]
  },
  {
   "cell_type": "markdown",
   "metadata": {},
   "source": [
    "Gathering \"features\"."
   ]
  },
  {
   "cell_type": "code",
   "execution_count": 3,
   "metadata": {},
   "outputs": [
    {
     "name": "stderr",
     "output_type": "stream",
     "text": [
      "/home/ychalier/anaconda3/envs/dice/lib/python3.6/site-packages/sklearn/utils/linear_assignment_.py:21: DeprecationWarning: The linear_assignment_ module is deprecated in 0.21 and will be removed from 0.23. Use scipy.optimize.linear_sum_assignment instead.\n",
      "  DeprecationWarning)\n"
     ]
    },
    {
     "data": {
      "text/plain": [
       "(399, 7)"
      ]
     },
     "execution_count": 3,
     "metadata": {},
     "output_type": "execute_result"
    }
   ],
   "source": [
    "inputs = Inputs(INPUTS_FOLDER)\n",
    "detective = inputs.get_detective()\n",
    "cues = {cls.__name__: d for cls, d in detective.cues.items()}\n",
    "df_cues = pd.DataFrame(cues)\n",
    "df_annotation = pd.read_csv(ANNOTATION_PATH)\n",
    "df_annotation = df_annotation.where(df_annotation[\"source_1\"] == INPUTS_SOURCE).dropna()\n",
    "indices = sorted(set(df_annotation[\"index_1\"]).union(df_annotation[\"index_2\"]))\n",
    "X = df_cues.loc[indices]\n",
    "X.shape"
   ]
  },
  {
   "cell_type": "markdown",
   "metadata": {},
   "source": [
    "Building target values from pairwise preference."
   ]
  },
  {
   "cell_type": "code",
   "execution_count": 4,
   "metadata": {},
   "outputs": [
    {
     "data": {
      "text/plain": [
       "(399, 4)"
      ]
     },
     "execution_count": 4,
     "metadata": {},
     "output_type": "execute_result"
    }
   ],
   "source": [
    "y = pd.DataFrame(index=X.index)\n",
    "default = [.5 for _ in X.iterrows()]\n",
    "for dimension in Dimensions.iter():\n",
    "    y[dimension] = default[:]\n",
    "    for index, row in df_annotation.iterrows():\n",
    "        i1 = row[\"index_1\"]\n",
    "        i2 = row[\"index_2\"]\n",
    "        if row[dimension] > 3:\n",
    "            y.loc[i1][dimension] = 0\n",
    "            y.loc[i2][dimension] = 1\n",
    "        elif row[dimension] < 3:\n",
    "            y.loc[i1][dimension] = 1\n",
    "            y.loc[i2][dimension] = 0\n",
    "y.shape"
   ]
  },
  {
   "cell_type": "markdown",
   "metadata": {},
   "source": [
    "Splitting into train/test sets."
   ]
  },
  {
   "cell_type": "code",
   "execution_count": 5,
   "metadata": {},
   "outputs": [
    {
     "name": "stdout",
     "output_type": "stream",
     "text": [
      "X_train (263, 7)\n",
      "X_test (136, 7)\n",
      "y_train (263, 4)\n",
      "y_test (136, 4)\n"
     ]
    }
   ],
   "source": [
    "split = int(.66 * X.shape[0])\n",
    "\n",
    "X_train, X_test = X.iloc[:split], X.iloc[split:]\n",
    "y_train, y_test = y.iloc[:split], y.iloc[split:]\n",
    "\n",
    "print(\"X_train\", X_train.shape)\n",
    "print(\"X_test\", X_test.shape)\n",
    "print(\"y_train\", y_train.shape)\n",
    "print(\"y_test\", y_test.shape)"
   ]
  },
  {
   "cell_type": "markdown",
   "metadata": {},
   "source": [
    "## 2. Regression"
   ]
  },
  {
   "cell_type": "markdown",
   "metadata": {},
   "source": [
    "Linear regression."
   ]
  },
  {
   "cell_type": "code",
   "execution_count": 6,
   "metadata": {},
   "outputs": [
    {
     "name": "stdout",
     "output_type": "stream",
     "text": [
      " Dimension | Train score | Test score\n",
      "---------- | ----------- | ----------\n",
      " Plausible |    0.021    |   -0.087  \n",
      "  Typical  |    0.068    |   -0.092  \n",
      "Remarkable |    0.075    |    0.053  \n",
      "  Salient  |    0.045    |    0.059  \n"
     ]
    },
    {
     "data": {
      "text/html": [
       "<div>\n",
       "<style scoped>\n",
       "    .dataframe tbody tr th:only-of-type {\n",
       "        vertical-align: middle;\n",
       "    }\n",
       "\n",
       "    .dataframe tbody tr th {\n",
       "        vertical-align: top;\n",
       "    }\n",
       "\n",
       "    .dataframe thead th {\n",
       "        text-align: right;\n",
       "    }\n",
       "</style>\n",
       "<table border=\"1\" class=\"dataframe\">\n",
       "  <thead>\n",
       "    <tr style=\"text-align: right;\">\n",
       "      <th></th>\n",
       "      <th>Plausible</th>\n",
       "      <th>Typical</th>\n",
       "      <th>Remarkable</th>\n",
       "      <th>Salient</th>\n",
       "    </tr>\n",
       "  </thead>\n",
       "  <tbody>\n",
       "    <tr>\n",
       "      <th>ContradictionCue</th>\n",
       "      <td>0.054704</td>\n",
       "      <td>-1.074958e-03</td>\n",
       "      <td>-3.154162e-01</td>\n",
       "      <td>-0.197963</td>\n",
       "    </tr>\n",
       "    <tr>\n",
       "      <th>EntailmentCue</th>\n",
       "      <td>0.171114</td>\n",
       "      <td>-3.267008e-01</td>\n",
       "      <td>8.643962e-03</td>\n",
       "      <td>0.194674</td>\n",
       "    </tr>\n",
       "    <tr>\n",
       "      <th>EntropyCue</th>\n",
       "      <td>0.073193</td>\n",
       "      <td>2.613345e-02</td>\n",
       "      <td>-4.412262e-02</td>\n",
       "      <td>-0.064670</td>\n",
       "    </tr>\n",
       "    <tr>\n",
       "      <th>ImplicationCue</th>\n",
       "      <td>-8.563788</td>\n",
       "      <td>-2.386870e+01</td>\n",
       "      <td>5.422901e+01</td>\n",
       "      <td>-16.660352</td>\n",
       "    </tr>\n",
       "    <tr>\n",
       "      <th>Intercept</th>\n",
       "      <td>8.976385</td>\n",
       "      <td>2.445182e+01</td>\n",
       "      <td>-5.368325e+01</td>\n",
       "      <td>17.175023</td>\n",
       "    </tr>\n",
       "    <tr>\n",
       "      <th>JointCue</th>\n",
       "      <td>761462.151479</td>\n",
       "      <td>-2.105292e+06</td>\n",
       "      <td>2.702355e+06</td>\n",
       "      <td>391185.526867</td>\n",
       "    </tr>\n",
       "    <tr>\n",
       "      <th>NecessityCue</th>\n",
       "      <td>-3.804746</td>\n",
       "      <td>-2.181020e+01</td>\n",
       "      <td>3.483016e+01</td>\n",
       "      <td>26.387986</td>\n",
       "    </tr>\n",
       "    <tr>\n",
       "      <th>SufficiencyCue</th>\n",
       "      <td>-0.438580</td>\n",
       "      <td>6.671210e-01</td>\n",
       "      <td>-3.262629e-01</td>\n",
       "      <td>-0.158179</td>\n",
       "    </tr>\n",
       "  </tbody>\n",
       "</table>\n",
       "</div>"
      ],
      "text/plain": [
       "                      Plausible       Typical    Remarkable        Salient\n",
       "ContradictionCue       0.054704 -1.074958e-03 -3.154162e-01      -0.197963\n",
       "EntailmentCue          0.171114 -3.267008e-01  8.643962e-03       0.194674\n",
       "EntropyCue             0.073193  2.613345e-02 -4.412262e-02      -0.064670\n",
       "ImplicationCue        -8.563788 -2.386870e+01  5.422901e+01     -16.660352\n",
       "Intercept              8.976385  2.445182e+01 -5.368325e+01      17.175023\n",
       "JointCue          761462.151479 -2.105292e+06  2.702355e+06  391185.526867\n",
       "NecessityCue          -3.804746 -2.181020e+01  3.483016e+01      26.387986\n",
       "SufficiencyCue        -0.438580  6.671210e-01 -3.262629e-01      -0.158179"
      ]
     },
     "execution_count": 6,
     "metadata": {},
     "output_type": "execute_result"
    }
   ],
   "source": [
    "table = [[\"Dimension\", \"Train score\", \"Test score\"]]\n",
    "coefs = {\n",
    "    dimension: {\n",
    "        key: None\n",
    "        for key in list(X.columns) + [\"Intercept\"]\n",
    "    }\n",
    "    for dimension in Dimensions.iter()\n",
    "}\n",
    "for dimension in Dimensions.iter():\n",
    "    model = LinearRegression()\n",
    "    model.fit(X_train, y_train[dimension])\n",
    "    for key, value in zip(list(X.columns) + [\"Intercept\"], list(model.coef_) + [model.intercept_]):\n",
    "        coefs[dimension][key] = value\n",
    "    table.append([\n",
    "        Dimensions.label(dimension),\n",
    "        str(round(model.score(X_train, y_train[dimension]), 3)),\n",
    "        str(round(model.score(X_test, y_test[dimension]), 3)),\n",
    "    ])\n",
    "print(Table(table))\n",
    "pd.DataFrame(coefs).rename(columns={\n",
    "    dimension: Dimensions.label(dimension)\n",
    "    for dimension in Dimensions.iter()\n",
    "})"
   ]
  },
  {
   "cell_type": "markdown",
   "metadata": {},
   "source": [
    "Printing coefficients in a copy/pastable format."
   ]
  },
  {
   "cell_type": "code",
   "execution_count": 7,
   "metadata": {},
   "outputs": [
    {
     "name": "stdout",
     "output_type": "stream",
     "text": [
      "COEF_PLAUSIBLE_ENTROPY = 0.07319310712581154\n",
      "COEF_PLAUSIBLE_JOINT = 761462.151478788\n",
      "COEF_PLAUSIBLE_NECESSITY = -3.804745786732383\n",
      "COEF_PLAUSIBLE_SUFFICIENCY = -0.4385799410229083\n",
      "COEF_PLAUSIBLE_IMPLICATION = -8.563788354368626\n",
      "COEF_PLAUSIBLE_CONTRADICTION = 0.054703906062059104\n",
      "COEF_PLAUSIBLE_ENTAILMENT = 0.1711135775403818\n",
      "COEF_PLAUSIBLE_INTERCEPT = 8.976384686940419\n",
      "COEF_TYPICAL_ENTROPY = 0.026133454201674688\n",
      "COEF_TYPICAL_JOINT = -2105291.702746237\n",
      "COEF_TYPICAL_NECESSITY = -21.810199417310287\n",
      "COEF_TYPICAL_SUFFICIENCY = 0.6671210307395086\n",
      "COEF_TYPICAL_IMPLICATION = -23.868703607996395\n",
      "COEF_TYPICAL_CONTRADICTION = -0.0010749581269919872\n",
      "COEF_TYPICAL_ENTAILMENT = -0.3267008303082548\n",
      "COEF_TYPICAL_INTERCEPT = 24.451817729183173\n",
      "COEF_REMARKABLE_ENTROPY = -0.044122616549911835\n",
      "COEF_REMARKABLE_JOINT = 2702355.3362207045\n",
      "COEF_REMARKABLE_NECESSITY = 34.830161827936536\n",
      "COEF_REMARKABLE_SUFFICIENCY = -0.326262857648544\n",
      "COEF_REMARKABLE_IMPLICATION = 54.22900918760752\n",
      "COEF_REMARKABLE_CONTRADICTION = -0.31541616888716817\n",
      "COEF_REMARKABLE_ENTAILMENT = 0.0086439618607983\n",
      "COEF_REMARKABLE_INTERCEPT = -53.68324856480977\n",
      "COEF_SALIENT_ENTROPY = -0.06467030769806702\n",
      "COEF_SALIENT_JOINT = 391185.52686741523\n",
      "COEF_SALIENT_NECESSITY = 26.38798635520652\n",
      "COEF_SALIENT_SUFFICIENCY = -0.1581788669427624\n",
      "COEF_SALIENT_IMPLICATION = -16.660352451670406\n",
      "COEF_SALIENT_CONTRADICTION = -0.19796256214613095\n",
      "COEF_SALIENT_ENTAILMENT = 0.19467371674545575\n",
      "COEF_SALIENT_INTERCEPT = 17.175022650742903\n"
     ]
    }
   ],
   "source": [
    "for dimension in coefs:\n",
    "    for cue in coefs[dimension]:\n",
    "        print(\n",
    "            \"COEF_\" + Dimensions.label(dimension).upper() + \"_\" + cue.upper().replace(\"CUE\", \"\"),\n",
    "            \"=\",\n",
    "            coefs[dimension][cue]\n",
    "        )"
   ]
  },
  {
   "cell_type": "markdown",
   "metadata": {},
   "source": [
    "## 3. Regressors Comparison"
   ]
  },
  {
   "cell_type": "code",
   "execution_count": 8,
   "metadata": {},
   "outputs": [
    {
     "name": "stdout",
     "output_type": "stream",
     "text": [
      "Train R2\n",
      "        Plausible   Typical  Remarkable   Salient\n",
      "LinReg   0.020625  0.067768    0.074897  0.045058\n",
      "MLP      0.014458  0.041509    0.032982  0.027860\n",
      "RF       0.802374  0.792857    0.796818  0.822277\n",
      "\n",
      "Test R2\n",
      "        Plausible   Typical  Remarkable   Salient\n",
      "LinReg  -0.087163 -0.092273    0.052678  0.059447\n",
      "MLP     -0.072432 -0.082921    0.077157  0.022396\n",
      "RF      -0.219514 -0.252401   -0.174938 -0.107835\n"
     ]
    },
    {
     "name": "stderr",
     "output_type": "stream",
     "text": [
      "/home/ychalier/anaconda3/envs/dice/lib/python3.6/site-packages/sklearn/ensemble/forest.py:245: FutureWarning: The default value of n_estimators will change from 10 in version 0.20 to 100 in 0.22.\n",
      "  \"10 in version 0.20 to 100 in 0.22.\", FutureWarning)\n",
      "/home/ychalier/anaconda3/envs/dice/lib/python3.6/site-packages/sklearn/ensemble/forest.py:245: FutureWarning: The default value of n_estimators will change from 10 in version 0.20 to 100 in 0.22.\n",
      "  \"10 in version 0.20 to 100 in 0.22.\", FutureWarning)\n",
      "/home/ychalier/anaconda3/envs/dice/lib/python3.6/site-packages/sklearn/ensemble/forest.py:245: FutureWarning: The default value of n_estimators will change from 10 in version 0.20 to 100 in 0.22.\n",
      "  \"10 in version 0.20 to 100 in 0.22.\", FutureWarning)\n",
      "/home/ychalier/anaconda3/envs/dice/lib/python3.6/site-packages/sklearn/ensemble/forest.py:245: FutureWarning: The default value of n_estimators will change from 10 in version 0.20 to 100 in 0.22.\n",
      "  \"10 in version 0.20 to 100 in 0.22.\", FutureWarning)\n"
     ]
    }
   ],
   "source": [
    "regressors = (\n",
    "    (\"MLP\", MLPRegressor),\n",
    "    (\"RF\", RandomForestRegressor),\n",
    "    (\"LinReg\", LinearRegression),\n",
    ")\n",
    "\n",
    "train = {\n",
    "    Dimensions.label(dimension): {\n",
    "        key: None\n",
    "        for key in [x[0] for x in regressors]\n",
    "    }\n",
    "    for dimension in Dimensions.iter()\n",
    "}\n",
    "\n",
    "test = {\n",
    "    Dimensions.label(dimension): {\n",
    "        key: None\n",
    "        for key in [x[0] for x in regressors]\n",
    "    }\n",
    "    for dimension in Dimensions.iter()\n",
    "}\n",
    "\n",
    "for name, cls in regressors:\n",
    "    for dimension in Dimensions.iter():\n",
    "        model = cls()\n",
    "        model.fit(X_train, y_train[dimension])\n",
    "        label = Dimensions.label(dimension)\n",
    "        train[label][name] = model.score(X_train, y_train[dimension])\n",
    "        test[label][name] = model.score(X_test, y_test[dimension])\n",
    "\n",
    "print(\"Train R2\")\n",
    "print(pd.DataFrame(train))\n",
    "print(\"\\nTest R2\")\n",
    "print(pd.DataFrame(test))"
   ]
  }
 ],
 "metadata": {
  "kernelspec": {
   "display_name": "Python 3",
   "language": "python",
   "name": "python3"
  },
  "language_info": {
   "codemirror_mode": {
    "name": "ipython",
    "version": 3
   },
   "file_extension": ".py",
   "mimetype": "text/x-python",
   "name": "python",
   "nbconvert_exporter": "python",
   "pygments_lexer": "ipython3",
   "version": "3.6.8"
  }
 },
 "nbformat": 4,
 "nbformat_minor": 2
}
