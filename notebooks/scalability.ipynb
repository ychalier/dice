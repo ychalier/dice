{
 "cells": [
  {
   "cell_type": "markdown",
   "metadata": {},
   "source": [
    "# Analysis of time/performances trade-off "
   ]
  },
  {
   "cell_type": "code",
   "execution_count": null,
   "metadata": {},
   "outputs": [],
   "source": [
    "import matplotlib.pyplot as plt\n",
    "import pandas as pd\n",
    "import os\n",
    "os.chdir(\"../\")"
   ]
  },
  {
   "cell_type": "markdown",
   "metadata": {},
   "source": [
    "## 1. Listing Partitions to Process"
   ]
  },
  {
   "cell_type": "code",
   "execution_count": null,
   "metadata": {},
   "outputs": [],
   "source": [
    "partitions = list()\n",
    "for filename in [\n",
    "        \"conceptnet_partition_10000_50000_100.tsv\",\n",
    "        \"conceptnet_partition_100_500_5.tsv\",\n",
    "        \"conceptnet_partition_1000_5000_10.tsv\",\n",
    "        \"conceptnet_partition_100_100_5.tsv\",\n",
    "        \"conceptnet_partition_100_5000_5.tsv\",\n",
    "        \"conceptnet_partition_1_100_10.tsv\"\n",
    "    ]:\n",
    "    max_cluster_size, max_neighborhood_size, max_siblings_size = list(map(int, filename[:-4].split(\"_\")[2:]))\n",
    "    partitions.append({\n",
    "        \"original_path\": filename,\n",
    "        \"max_cluster_size\": max_cluster_size,\n",
    "        \"max_neighborhood_size\": max_neighborhood_size,\n",
    "        \"max_siblings_size\": max_siblings_size,\n",
    "        \"min_path\": filename[:-3] + \"min.tsv\",\n",
    "        \"results_path\": filename[:-3] + \"min.tsv.txt\"\n",
    "    })\n",
    "\n",
    "for partition in partitions:\n",
    "    print(partition[\"min_path\"])"
   ]
  },
  {
   "cell_type": "markdown",
   "metadata": {},
   "source": [
    "## 2. Results Gathering"
   ]
  },
  {
   "cell_type": "code",
   "execution_count": null,
   "metadata": {},
   "outputs": [],
   "source": [
    "data = list()\n",
    "for partition in partitions:\n",
    "    path = partition[\"results_path\"]\n",
    "    if os.path.isfile(path):\n",
    "        entry = {\n",
    "            \"filename\": path,\n",
    "            \"ppref\": dict(),\n",
    "            \"parameters\": {\n",
    "                \"max_cluster_size\": partition[\"max_cluster_size\"],\n",
    "                \"max_neighborhood_size\": partition[\"max_neighborhood_size\"],\n",
    "                \"max_siblings_size\": partition[\"max_siblings_size\"],\n",
    "            }\n",
    "        }\n",
    "               \n",
    "        with open(path) as file:\n",
    "            for row in list(map(lambda line: list(map(lambda cell: cell.strip(), line.split(\"\\t\"))), file.readlines()))[1:]:\n",
    "                entry[\"ppref\"][row[0]] = float(row[1])\n",
    "        data.append(entry)\n",
    "        \n",
    "time = {\n",
    "    \"conceptnet_partition_10000_50000_100.min.tsv.txt\": 250,\n",
    "    \"conceptnet_partition_100_500_5.min.tsv.txt\": 60,\n",
    "    \"conceptnet_partition_1000_5000_10.min.tsv.txt\": 34*60+9-25*60-22,\n",
    "    \"conceptnet_partition_100_100_5.min.tsv.txt\": 33 + 18,\n",
    "    \"conceptnet_partition_100_5000_5.min.tsv.txt\": 25 + 28,\n",
    "    \"conceptnet_partition_1_100_10.min.tsv.txt\": 60+16-29,\n",
    "}\n",
    "\n",
    "for entry in data:\n",
    "    entry[\"time\"] = time[entry[\"filename\"]]"
   ]
  },
  {
   "cell_type": "markdown",
   "metadata": {},
   "source": [
    "## 3. Plotting"
   ]
  },
  {
   "cell_type": "code",
   "execution_count": null,
   "metadata": {},
   "outputs": [],
   "source": [
    "def plot(feature):\n",
    "    feature_name = {\n",
    "        \"time\": \"Processing time (seconds)\",\n",
    "        \"max_neighborhood_size\": \"Maximum cluster size\",\n",
    "        \"max_cluster_size\": \"Maximum cluster center size\",\n",
    "        \"max_siblings_size\": \"Maximum no. of siblings considered\",\n",
    "    }\n",
    "    feature_path = {\n",
    "        \"time\": \"ppref-over-time\",\n",
    "        \"max_neighborhood_size\": \"ppref-over-cluster-size\",\n",
    "        \"max_cluster_size\": \"ppref-over-cluster-center-size\",\n",
    "        \"max_siblings_size\": \"ppref-over-siblings-count\",\n",
    "    }\n",
    "    ys = dict()\n",
    "    x = list()\n",
    "    for entry in data:\n",
    "        for dimension in entry[\"ppref\"]:\n",
    "            ys.setdefault(dimension, list())\n",
    "            ys[dimension].append(entry[\"ppref\"][dimension])\n",
    "        if feature in entry.keys():\n",
    "            x.append(entry[feature])\n",
    "        elif feature in entry[\"parameters\"].keys():\n",
    "            x.append(entry[\"parameters\"][feature])\n",
    "    plt.figure(figsize=(10, 4))\n",
    "    for label, y in ys.items():\n",
    "        xp, yp = zip(*sorted(zip(x, y)))\n",
    "        plt.semilogx(xp, yp, marker=\"s\", linewidth=2, label=label)\n",
    "    plt.ylabel(\"ppref\")\n",
    "    plt.xlabel(feature_name[feature])\n",
    "    plt.legend()\n",
    "    plt.savefig(\"out/\" + feature_path[feature] + \".png\")\n",
    "    plt.show()\n",
    "    \n",
    "plot(\"time\")\n",
    "plot(\"max_neighborhood_size\")\n",
    "plot(\"max_cluster_size\")\n",
    "plot(\"max_siblings_size\")"
   ]
  },
  {
   "cell_type": "code",
   "execution_count": null,
   "metadata": {},
   "outputs": [],
   "source": [
    "df_vals = list()\n",
    "for entry in sorted(data, key=lambda entry: entry[\"time\"]):\n",
    "    df_vals.append(entry[\"parameters\"])\n",
    "    df_vals[-1][\"time\"] = entry[\"time\"]\n",
    "\n",
    "print(pd.DataFrame(df_vals).rename(columns={\n",
    "    \"time\": \"time (seconds)\",\n",
    "    \"max_neighborhood_size\": \"cluster-size\",\n",
    "    \"max_cluster_size\": \"cluster center size\",\n",
    "    \"max_siblings_size\": \"siblings count\",\n",
    "}))"
   ]
  }
 ],
 "metadata": {
  "kernelspec": {
   "display_name": "Python 3",
   "language": "python",
   "name": "python3"
  },
  "language_info": {
   "codemirror_mode": {
    "name": "ipython",
    "version": 3
   },
   "file_extension": ".py",
   "mimetype": "text/x-python",
   "name": "python",
   "nbconvert_exporter": "python",
   "pygments_lexer": "ipython3",
   "version": "3.6.8"
  }
 },
 "nbformat": 4,
 "nbformat_minor": 2
}
