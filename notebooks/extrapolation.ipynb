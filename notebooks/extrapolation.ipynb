{
 "cells": [
  {
   "cell_type": "markdown",
   "metadata": {},
   "source": [
    "# CSK Extrapolation Evaluation"
   ]
  },
  {
   "cell_type": "code",
   "execution_count": 1,
   "metadata": {},
   "outputs": [
    {
     "name": "stderr",
     "output_type": "stream",
     "text": [
      "/home/ychalier/anaconda3/envs/dice/lib/python3.6/site-packages/matplotlib2tikz/__init__.py:31: UserWarning: matplotlib2tikz has been renamed to tikzplotlib (which is Python-3-only). matplotlib2tikz will no longer be supported.\n",
      "  warnings.warn(\"matplotlib2tikz has been renamed to tikzplotlib (which is Python-3-only). matplotlib2tikz will no longer be supported.\")\n"
     ]
    }
   ],
   "source": [
    "import os\n",
    "os.chdir(\"../\")\n",
    "from dice.evaluation import Tracker\n",
    "from dice import Inputs\n",
    "import random\n",
    "import pandas as pd\n",
    "import matplotlib.pyplot as plt\n",
    "import seaborn as sns\n",
    "import matplotlib2tikz\n",
    "import itertools"
   ]
  },
  {
   "cell_type": "markdown",
   "metadata": {},
   "source": [
    "## 1. Gathering Data for Annotation"
   ]
  },
  {
   "cell_type": "code",
   "execution_count": 2,
   "metadata": {},
   "outputs": [],
   "source": [
    "INPUT_FOLDER = \"scratch/conceptnet\"\n",
    "DUMMY_FOLDER = \"scratch/conceptnet/dummy\"\n",
    "AGGREGATE_TRACKER_PATH = \"out/aggregated_tracker.tsv\"\n",
    "ANNOTATION_INPUT_PATH_1 = \"out/dummy_facts_v1.csv\"\n",
    "ANNOTATION_INPUT_PATH_2 = \"out/dummy_facts_v2.csv\""
   ]
  },
  {
   "cell_type": "markdown",
   "metadata": {},
   "source": [
    "Grouping facts by subjects."
   ]
  },
  {
   "cell_type": "code",
   "execution_count": 3,
   "metadata": {},
   "outputs": [],
   "source": [
    "known = dict()\n",
    "for fact in Inputs(INPUT_FOLDER).get_kb().values():\n",
    "    known.setdefault(fact.subject, 0)\n",
    "    known[fact.subject] += 1"
   ]
  },
  {
   "cell_type": "markdown",
   "metadata": {},
   "source": [
    "Aggregating results into one big tracker."
   ]
  },
  {
   "cell_type": "code",
   "execution_count": 4,
   "metadata": {},
   "outputs": [
    {
     "name": "stdout",
     "output_type": "stream",
     "text": [
      "Found 2209 new facts about 'park' which had 13\n",
      "Found 834 new facts about 'sculpture' which had 11\n",
      "Found 0 new facts about 'letterboxes' which had 1\n",
      "Found 2544 new facts about 'magnet' which had 11\n",
      "Found 1984 new facts about 'saddle' which had 28\n",
      "Found 0 new facts about 'motorist' which had 1\n",
      "Found 0 new facts about 'pipette' which had 1\n",
      "Found 0 new facts about 'thursday' which had 1\n",
      "Found 0 new facts about 'sportscar' which had 1\n",
      "Found 0 new facts about 'velociraptor' which had 3\n",
      "Found 3969 new facts about 'tapestry' which had 27\n",
      "Found 4546 new facts about 'athlete' which had 48\n",
      "Found 0 new facts about 'chapter' which had 4\n"
     ]
    }
   ],
   "source": [
    "aggregated_tracker = Tracker()\n",
    "total = 0\n",
    "for dir_entry in os.scandir(DUMMY_FOLDER):\n",
    "    tracker_path = os.path.join(dir_entry.path, \"tracker.tsv\")\n",
    "    if os.path.isfile(tracker_path):\n",
    "        dummy_tracker = Tracker(tracker_path)\n",
    "        print(\n",
    "            \"Found\",\n",
    "            len(dummy_tracker),\n",
    "            \"new facts about\",\n",
    "            \"'\" + dir_entry.name + \"'\",\n",
    "            \"which had\",\n",
    "            known[dir_entry.name]\n",
    "        )\n",
    "        total += known[dir_entry.name]\n",
    "        for fact in dummy_tracker.values():\n",
    "            fact.index = len(aggregated_tracker) + 1\n",
    "            aggregated_tracker[fact.index] = fact\n",
    "\n",
    "# Uncomment to output\n",
    "# aggregated_tracker.save(AGGREGATE_TRACKER_PATH)"
   ]
  },
  {
   "cell_type": "markdown",
   "metadata": {},
   "source": [
    "Sampling tracker."
   ]
  },
  {
   "cell_type": "code",
   "execution_count": 5,
   "metadata": {},
   "outputs": [],
   "source": [
    "def group(facts, out_path, size):\n",
    "    random.shuffle(facts)\n",
    "    r = len(facts) % size\n",
    "    if r != 0:\n",
    "        facts += facts[:size-r]\n",
    "    data = list()\n",
    "    for i in range(0, len(facts), size):\n",
    "        data.append(list())\n",
    "        for j in range(size):\n",
    "            data[i // size] += facts[i + j]\n",
    "    with open(out_path, \"w\") as file:\n",
    "        for i in range(size):\n",
    "            if i > 0:\n",
    "                file.write(\",\")\n",
    "            file.write(\"index_{i},source_{i},subject_{i},property_{i}\".format(i=i))\n",
    "        file.write(\"\\n\")\n",
    "        for row in data:\n",
    "            file.write(\",\".join(row) + \"\\n\")\n",
    "\n",
    "indices = list(random.sample(aggregated_tracker.keys(), 100))\n",
    "sampled_facts = list()\n",
    "for index in indices:\n",
    "    sampled_facts.append([\n",
    "        str(aggregated_tracker[index].index),\n",
    "        aggregated_tracker[index].source,\n",
    "        aggregated_tracker[index].subject,\n",
    "        aggregated_tracker[index].property,\n",
    "    ])\n",
    "    \n",
    "# Uncomment to output\n",
    "# group(sampled_facts, ANNOTATION_INPUT_PATH_1, 4)"
   ]
  },
  {
   "cell_type": "markdown",
   "metadata": {},
   "source": [
    "Second annotation task, for top-ranked facts."
   ]
  },
  {
   "cell_type": "code",
   "execution_count": 6,
   "metadata": {},
   "outputs": [
    {
     "name": "stdout",
     "output_type": "stream",
     "text": [
      "Need to annotate 0 more facts.\n"
     ]
    }
   ],
   "source": [
    "to_annotate = set()\n",
    "for dim in range(4):\n",
    "    indices = sorted(\n",
    "        aggregated_tracker,\n",
    "        key=lambda i: -aggregated_tracker[i].attributes[dim][\"confidence\"]\n",
    "    )\n",
    "    expansion = list()\n",
    "    precision = list()\n",
    "    for i, index in enumerate(indices):\n",
    "        if i > total * 10:\n",
    "            break\n",
    "        if i < 200 and i % 7 == 0:\n",
    "            to_annotate.add(indices[i])\n",
    "        elif i % 20 == 0:\n",
    "            to_annotate.add(indices[i])\n",
    "    \n",
    "to_annotate = [index for index in to_annotate if index not in indices]\n",
    "print(\"Need to annotate\", len(to_annotate), \"more facts.\")\n",
    "\n",
    "sampled_facts = list()\n",
    "for index in to_annotate:\n",
    "    sampled_facts.append([\n",
    "        str(aggregated_tracker[index].index),\n",
    "        aggregated_tracker[index].source,\n",
    "        aggregated_tracker[index].subject,\n",
    "        aggregated_tracker[index].property,\n",
    "    ])\n",
    "\n",
    "# Uncomment to output\n",
    "# group(sampled_facts, ANNOTATION_INPUT_PATH_2, 4)"
   ]
  },
  {
   "cell_type": "markdown",
   "metadata": {},
   "source": [
    "## 2. Gathering Annotations"
   ]
  },
  {
   "cell_type": "code",
   "execution_count": 7,
   "metadata": {},
   "outputs": [],
   "source": [
    "ANNOTATIONS = [\n",
    "    \"data/annotation/answer/Batch_3735107_batch_results.csv\",\n",
    "    \"data/annotation/answer/Batch_3736138_batch_results.csv\"\n",
    "]"
   ]
  },
  {
   "cell_type": "markdown",
   "metadata": {},
   "source": [
    "Aggregating annotations."
   ]
  },
  {
   "cell_type": "code",
   "execution_count": 8,
   "metadata": {},
   "outputs": [],
   "source": [
    "data = list()\n",
    "for path in ANNOTATIONS:\n",
    "    df = pd.read_csv(path)\n",
    "    for index, row in df.iterrows():\n",
    "        for i in range(4):\n",
    "            data.append({\n",
    "                \"index\": row[\"Input.index_\" + str(i)],\n",
    "                \"plausible\": row[\"Answer.plausible\" + str(i)]\n",
    "        })\n",
    "df = pd.DataFrame(data).groupby(\"index\").mean().sort_values(by=\"plausible\")"
   ]
  },
  {
   "cell_type": "code",
   "execution_count": 9,
   "metadata": {},
   "outputs": [],
   "source": [
    "series = dict()\n",
    "for dim in range(4):\n",
    "    indices = sorted(aggregated_tracker, key=lambda i: -aggregated_tracker[i].attributes[dim][\"confidence\"])\n",
    "    expansion = list()\n",
    "    precision = list()\n",
    "    errors = list()\n",
    "    buffer = list()\n",
    "    for i, index in enumerate(indices):\n",
    "        if index in df.index:\n",
    "            buffer.append(df.loc[index][\"plausible\"])\n",
    "        if len(buffer) > 0:\n",
    "            expansion.append((i + 1) / total)\n",
    "            precision.append(sum(buffer) / len(buffer))\n",
    "            errors.append((1 / len(buffer) ** .5))\n",
    "    series[[\"Plausible\", \"Typical\", \"Remarkable\", \"Salient\"][dim]] = {\n",
    "        \"x\": expansion[:],\n",
    "        \"y\": precision[:],\n",
    "        \"err\": errors[:],\n",
    "    }"
   ]
  },
  {
   "cell_type": "markdown",
   "metadata": {},
   "source": [
    "## 3. Results"
   ]
  },
  {
   "cell_type": "code",
   "execution_count": 10,
   "metadata": {},
   "outputs": [],
   "source": [
    "PLAUSIBILITY_ANNOTATION_PATH = \"data/annotation/answer/Batch_3721563_batch_results.csv\"\n",
    "TEX_OUTPUT_PATH = \"dummy-plot.tex\""
   ]
  },
  {
   "cell_type": "markdown",
   "metadata": {},
   "source": [
    "Getting baseline score from previous Plausiblity annotation."
   ]
  },
  {
   "cell_type": "code",
   "execution_count": 11,
   "metadata": {},
   "outputs": [],
   "source": [
    "mean = pd.read_csv(PLAUSIBILITY_ANNOTATION_PATH).mean()[[\n",
    "    \"Answer.plausible0\",\n",
    "    \"Answer.plausible1\",\n",
    "    \"Answer.plausible2\",\n",
    "    \"Answer.plausible3\"\n",
    "]].mean()"
   ]
  },
  {
   "cell_type": "code",
   "execution_count": 12,
   "metadata": {},
   "outputs": [
    {
     "name": "stderr",
     "output_type": "stream",
     "text": [
      "/home/ychalier/anaconda3/envs/dice/lib/python3.6/site-packages/matplotlib2tikz/axes.py:508: MatplotlibDeprecationWarning: \n",
      "The tick1On function was deprecated in Matplotlib 3.1 and will be removed in 3.3. Use Tick.tick1line.get_visible instead.\n",
      "  major_ticks_bottom = [tick.tick1On for tick in major_ticks]\n",
      "/home/ychalier/anaconda3/envs/dice/lib/python3.6/site-packages/matplotlib2tikz/axes.py:509: MatplotlibDeprecationWarning: \n",
      "The tick2On function was deprecated in Matplotlib 3.1 and will be removed in 3.3. Use Tick.tick2line.get_visible instead.\n",
      "  major_ticks_top = [tick.tick2On for tick in major_ticks]\n"
     ]
    },
    {
     "data": {
      "image/png": "[encoded data removed]",
      "text/plain": [
       "<Figure size 864x360 with 1 Axes>"
      ]
     },
     "metadata": {
      "needs_background": "light"
     },
     "output_type": "display_data"
    }
   ],
   "source": [
    "fig, ax = plt.subplots(figsize=(12, 5))\n",
    "markers = itertools.cycle([\"s\", \"*\", \"v\", \"o\"])\n",
    "for label, coords in series.items():\n",
    "    if label in [\"Salient\", \"Remarkable\"]:\n",
    "        continue\n",
    "    marker = next(markers)\n",
    "    ax.errorbar(\n",
    "        coords[\"x\"][:800],\n",
    "        coords[\"y\"][:800],\n",
    "        yerr=coords[\"err\"][:800],\n",
    "        label=label,\n",
    "        linewidth=1.5,\n",
    "        linestyle=\"-\",\n",
    "        elinewidth=.4,\n",
    "    )\n",
    "ax.plot(\n",
    "    range(11),\n",
    "    [mean for _ in range(11)],\n",
    "    label=\"Average correctness of existing facts (3.44)\",\n",
    "    linestyle=\"--\"\n",
    ")\n",
    "ax.grid()\n",
    "ax.legend(title=\"Ranking dimension\", loc=\"lower center\")\n",
    "ax.xaxis.set_ticks([i / 4 for i in range(5 * 4 + 1)])\n",
    "ax.xaxis.set_ticks([i / 4 + .125 for i in range(5 * 4 )], minor=True)\n",
    "ax.xaxis.grid(True, which=\"minor\")\n",
    "ax.set_xlabel(\"Expansion factor\\n(#new facts per existing fact)\")\n",
    "ax.set_ylabel(\"Correctness of extrapolated facts\\n(1-5 scale)\")\n",
    "ax.set_xlim(0, 5)\n",
    "ax.set_ylim(2, 4)\n",
    "matplotlib2tikz.save(TEX_OUTPUT_PATH)\n",
    "pass"
   ]
  },
  {
   "cell_type": "code",
   "execution_count": 13,
   "metadata": {},
   "outputs": [
    {
     "name": "stdout",
     "output_type": "stream",
     "text": [
      "--------------------------------------------------------------------------------\n",
      "Top Plausible\n",
      "--------------------------------------------------------------------------------\n",
      "1 \t park \t be use when it dark\n",
      "2 \t park \t wants to blue sky and warm day\n",
      "3 \t sculpture \t be at art in museum\n",
      "4 \t sculpture \t be silver or gold in color\n",
      "5 \t magnet \t be at any big north american city\n",
      "6 \t saddle \t wants to go on vacation in beautiful place\n",
      "7 \t tapestry \t be used to cool off on hot day\n",
      "8 \t athlete \t be one of favourite american sport\n",
      "9 \t athlete \t wants to play competitive game\n",
      "10 \t magnet \t be at in fridge\n",
      "11 \t sculpture \t be at art museum\n",
      "12 \t sculpture \t be at art in art museum\n",
      "13 \t magnet \t be at in refrigerator\n",
      "14 \t athlete \t be win in sport\n",
      "15 \t magnet \t has fridge\n",
      "16 \t saddle \t be used to ride horse\n",
      "17 \t magnet \t be at your refrigerator\n",
      "18 \t magnet \t be store in fridge\n",
      "19 \t magnet \t be at refrigerator freezer\n",
      "20 \t sculpture \t be see in museum\n",
      "\n",
      "\n",
      "--------------------------------------------------------------------------------\n",
      "Top Typical\n",
      "--------------------------------------------------------------------------------\n",
      "1 \t park \t be defined as most popular hot beverage for adult\n",
      "2 \t athlete \t wants to accomplish good thing\n",
      "3 \t magnet \t appear to be something real\n",
      "4 \t saddle \t be set on table\n",
      "5 \t tapestry \t be used to pay as you go\n",
      "6 \t sculpture \t see lumber\n",
      "7 \t magnet \t appear far than they really be\n",
      "8 \t tapestry \t be used to make your room look nice\n",
      "9 \t park \t wants to hot food to be hot\n",
      "10 \t athlete \t be used to break thing\n",
      "11 \t athlete \t requires be good sport\n",
      "12 \t athlete \t be used to get good at play\n",
      "13 \t athlete \t wants to see good play\n",
      "14 \t athlete \t be nice to win\n",
      "15 \t athlete \t be happy when they win\n",
      "16 \t sculpture \t be make out of steel or wood\n",
      "17 \t sculpture \t be make from wood or metal\n",
      "18 \t athlete \t be happy because he win\n",
      "19 \t tapestry \t be used to make wall look good\n",
      "20 \t athlete \t wants to play with thing\n",
      "\n",
      "\n"
     ]
    }
   ],
   "source": [
    "for dim in range(2):\n",
    "    print(\"-\"*80)\n",
    "    print(\"Top\", [\"Plausible\", \"Typical\"][dim])\n",
    "    print(\"-\"*80)\n",
    "    indices = sorted(aggregated_tracker, key=lambda i: -aggregated_tracker[i].attributes[dim][\"confidence\"])\n",
    "    for i, index in enumerate(indices[:20]):\n",
    "        print(i+1, \"\\t\", aggregated_tracker[index].subject, \"\\t\", aggregated_tracker[index].property)\n",
    "    print(\"\\n\")"
   ]
  }
 ],
 "metadata": {
  "kernelspec": {
   "display_name": "Python 2",
   "language": "python",
   "name": "python2"
  },
  "language_info": {
   "codemirror_mode": {
    "name": "ipython",
    "version": 3
   },
   "file_extension": ".py",
   "mimetype": "text/x-python",
   "name": "python",
   "nbconvert_exporter": "python",
   "pygments_lexer": "ipython3",
   "version": "3.6.8"
  }
 },
 "nbformat": 4,
 "nbformat_minor": 2
}
